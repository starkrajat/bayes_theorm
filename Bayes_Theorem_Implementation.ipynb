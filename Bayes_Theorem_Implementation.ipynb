{
 "cells": [
  {
   "cell_type": "markdown",
   "metadata": {},
   "source": [
    "#  Let us assume we are in the city of Hamburg and we want to travel to Munich. We will have to change trains in Frankfurt am Main. We know from previous train journeys that our train from Hamburg might be delayed and the we will not catch our connecting train in Frankfurt. The probability that we will not be in time for our connecting train depends on how high our possible delay will be. The connecting train will not wait for more than five minutes. Sometimes the other train is delayed as well.\n",
    "\n",
    "The following lists 'in_time' (the train from Hamburg arrived in time to catch the connecting train to Munich) and 'too_late' (connecting train is missed) are data showing the situation over some weeks. The first component of each tuple shows the minutes the train was late and the second component shows the number of time this occurred."
   ]
  },
  {
   "cell_type": "code",
   "execution_count": 6,
   "metadata": {},
   "outputs": [],
   "source": [
    "# the tuples consist of (delay time of train1, number of times)\n",
    "\n",
    "\n",
    "# tuples are (minutes, number of times)\n",
    "in_time = [(0, 22), (1, 19), (2, 17), (3, 18),\n",
    "           (4, 16), (5, 15), (6, 9), (7, 7),\n",
    "           (8, 4), (9, 3), (10, 3), (11, 2)]\n",
    "too_late = [(6, 6), (7, 9), (8, 12), (9, 17), \n",
    "            (10, 18), (11, 15), (12,16), (13, 7),\n",
    "            (14, 8), (15, 5)]"
   ]
  },
  {
   "cell_type": "code",
   "execution_count": 7,
   "metadata": {},
   "outputs": [
    {
     "name": "stdout",
     "output_type": "stream",
     "text": [
      "(0, 1, 2, 3, 4, 5, 6, 7, 8, 9, 10, 11) (22, 19, 17, 18, 16, 15, 9, 7, 4, 3, 3, 2)\n"
     ]
    },
    {
     "data": {
      "image/png": "[encoded data removed]",
      "text/plain": [
       "<Figure size 432x288 with 1 Axes>"
      ]
     },
     "metadata": {
      "needs_background": "light"
     },
     "output_type": "display_data"
    }
   ],
   "source": [
    "%matplotlib inline\n",
    "\n",
    "import matplotlib.pyplot as plt\n",
    "\n",
    "X, Y = zip(*in_time)\n",
    "print(X,Y)\n",
    "X2, Y2 = zip(*too_late)\n",
    "\n",
    "bar_width = 0.9\n",
    "plt.bar(X, Y, bar_width,  color=\"blue\", alpha=0.75, label=\"in time\")\n",
    "bar_width = 0.8\n",
    "plt.bar(X2, Y2, bar_width,  color=\"red\", alpha=0.75, label=\"too late\")\n",
    "plt.legend(loc='upper right')\n",
    "plt.show()"
   ]
  },
  {
   "cell_type": "markdown",
   "metadata": {},
   "source": [
    "# From this data we can deduce that the probability of catching the connecting train if we are one minute late is 1, because we had 19 successful cases experienced and no misses, i.e. there is no tuple with 1 as the first component in 'too_late'.\n",
    "\n",
    "We will denote the event \"train arrived in time to catch the connecting train\" with \n",
    "(success) and the 'unlucky' event \"train arrived too late to catch the connecting train\" with \n",
    "\n",
    "(miss)\n",
    "\n",
    "We can now define the probability \"catching the train given that we are 1 minute late\" formally:\n",
    "\n",
    "\n",
    "We used the fact that the tuple \n",
    "\n",
    "is in 'in_time' and there is no tuple with the first component 1 in 'too_late'\n",
    "\n",
    "It's getting critical for catching the connecting train to Munich, if we are 6 minutes late. Yet, the chances are still 60 %:\n",
    "\n",
    "\n",
    "Accordingly, the probability for missing the train knowing that we are 6 minutes late is:\n",
    "\n",
    "\n",
    "We can write a 'classifier' function, which will give the probability for catching the connecting train:"
   ]
  },
  {
   "cell_type": "code",
   "execution_count": 8,
   "metadata": {},
   "outputs": [
    {
     "name": "stdout",
     "output_type": "stream",
     "text": [
      "-1 1\n",
      "0 1.0\n",
      "1 1.0\n",
      "2 1.0\n",
      "3 1.0\n",
      "4 1.0\n",
      "5 1.0\n",
      "6 0.6\n",
      "7 0.4375\n",
      "8 0.25\n",
      "9 0.15\n",
      "10 0.14285714285714285\n",
      "11 0.11764705882352941\n",
      "12 1\n"
     ]
    }
   ],
   "source": [
    "in_time_dict = dict(in_time)\n",
    "too_late_dict = dict(too_late)\n",
    "\n",
    "def catch_the_train(min):\n",
    "    s = in_time_dict.get(min, 0)\n",
    "    if s == 0:\n",
    "        return 1\n",
    "    else:\n",
    "        m = too_late_dict.get(min, 0)\n",
    "        return s / (s + m)\n",
    "\n",
    "for minutes in range(-1, 13):\n",
    "    print(minutes, catch_the_train(minutes))"
   ]
  },
  {
   "cell_type": "markdown",
   "metadata": {},
   "source": [
    "# We will use a file called 'person_data.txt'. It contains 100 random person data, male and female, with body sizes, weights and gender tags."
   ]
  },
  {
   "cell_type": "code",
   "execution_count": 9,
   "metadata": {},
   "outputs": [
    {
     "name": "stdout",
     "output_type": "stream",
     "text": [
      "female:\n",
      "['Stephanie', 'Cynthia', 'Katherine', 'Elizabeth', 'Carol', 'Christina', 'Beverly', 'Sharon', 'Denise', 'Rebecca']\n",
      "[149 174 183 138 145 161 179 162 148 196]\n",
      "male:\n",
      "['Randy', 'Jessie', 'David', 'Stephen', 'Jerry', 'Billy', 'Earl', 'Todd', 'Martin', 'Kenneth']\n",
      "[184 175 187 192 204 180 184 174 177 200]\n"
     ]
    }
   ],
   "source": [
    "import numpy as np\n",
    "\n",
    "genders = [\"male\", \"female\"]\n",
    "persons = []\n",
    "with open(\"person_data.txt\") as fh:\n",
    "    for line in fh:\n",
    "        persons.append(line.strip().split())\n",
    "\n",
    "firstnames = {}\n",
    "heights = {}\n",
    "for gender in genders:\n",
    "    firstnames[gender] = [ x[0] for x in persons if x[4]==gender]\n",
    "    heights[gender] = [ x[2] for x in persons if x[4]==gender]\n",
    "    heights[gender] = np.array(heights[gender], np.int)\n",
    "    \n",
    "for gender in (\"female\", \"male\"):\n",
    "    print(gender + \":\")\n",
    "    print(firstnames[gender][:10])\n",
    "    print(heights[gender][:10])\n",
    "\n"
   ]
  },
  {
   "cell_type": "markdown",
   "metadata": {},
   "source": [
    "#  Warning: There might be some confusion between a Python class and a Naive Bayes class. We try to avoid it by saying explicitly what is meant, whenever possible!\n",
    "\n",
    "Designing a Feature class\n",
    "\n",
    "We will now define a Python class \"Feature\" for the features, which we will use for classification later.\n",
    "\n",
    "The Feature class needs a label, e.g. \"heights\" or \"firstnames\". If the feature values are numerical we may want to \"bin\" them to reduce the number of possible feature values. The heights from our persons have a huge range and we have only 50 measured values for our Naive Bayes classes \"male\" and \"female\". We will bin them into ranges \"130 to 134\", \"135 to 139\", \"140 to 144\" and so on by setting bin_width to 5. There is no way of binning the first names, so bin_width will be set to None.\n",
    "\n",
    "The method frequency returns the number of occurrencies for a certain feature value or a binned range.\n"
   ]
  },
  {
   "cell_type": "code",
   "execution_count": 26,
   "metadata": {},
   "outputs": [],
   "source": [
    "from collections import Counter\n",
    "import numpy as np\n",
    "\n",
    "class Feature:\n",
    "    \n",
    "    def __init__(self, data, name=None, bin_width=None):\n",
    "        self.name = name\n",
    "        self.bin_width = bin_width\n",
    "        if bin_width:\n",
    "            self.min, self.max = min(data), max(data)\n",
    "            bins = np.arange((self.min // bin_width) * bin_width, \n",
    "                                (self.max // bin_width) * bin_width,\n",
    "                                bin_width)\n",
    "            freq, bins = np.histogram(data, bins)\n",
    "            self.freq_dict = dict(zip(bins, freq))\n",
    "            self.freq_sum = sum(freq)\n",
    "        else:\n",
    "            self.freq_dict = dict(Counter(data))\n",
    "            self.freq_sum = sum(self.freq_dict.values())\n",
    "            \n",
    "        \n",
    "        \n",
    "    def frequency(self, value):\n",
    "        if self.bin_width:\n",
    "            value = (value // self.bin_width) * self.bin_width\n",
    "        if value in self.freq_dict:\n",
    "            return self.freq_dict[value]\n",
    "        else:\n",
    "            return 0"
   ]
  },
  {
   "cell_type": "markdown",
   "metadata": {},
   "source": [
    "#   We will create now two feature classes Feature for the height values of the person data set. One Feature class contains the height for the Naive Bayes class \"male\" and one the heights for the class \"female\":\n"
   ]
  },
  {
   "cell_type": "code",
   "execution_count": 11,
   "metadata": {},
   "outputs": [
    {
     "name": "stdout",
     "output_type": "stream",
     "text": [
      "male {155: 1, 160: 5, 165: 4, 170: 6, 175: 7, 180: 5, 185: 8, 190: 8, 195: 2, 200: 3}\n",
      "female {130: 1, 135: 1, 140: 0, 145: 3, 150: 5, 155: 7, 160: 8, 165: 11, 170: 7, 175: 2, 180: 4, 185: 0}\n"
     ]
    }
   ],
   "source": [
    "fts = {}\n",
    "for gender in genders:\n",
    "    fts[gender] = Feature(heights[gender], name=gender, bin_width=5)\n",
    "    print(gender, fts[gender].freq_dict)"
   ]
  },
  {
   "cell_type": "markdown",
   "metadata": {},
   "source": [
    "#  Bar Chart of Frequency Distribution\n",
    "\n",
    "We printed out the frequencies of our bins, but it is a lot better to see these values dipicted in a bar chart. We will do this with the following code:\n"
   ]
  },
  {
   "cell_type": "code",
   "execution_count": 12,
   "metadata": {},
   "outputs": [
    {
     "data": {
      "image/png": "[encoded data removed]",
      "text/plain": [
       "<Figure size 432x288 with 1 Axes>"
      ]
     },
     "metadata": {
      "needs_background": "light"
     },
     "output_type": "display_data"
    }
   ],
   "source": [
    "for gender in genders:\n",
    "    frequencies = list(fts[gender].freq_dict.items())\n",
    "    frequencies.sort(key=lambda x: x[1])\n",
    "    X, Y = zip(*frequencies)\n",
    "    color = \"blue\" if gender==\"male\" else \"red\"\n",
    "    bar_width = 4 if gender==\"male\" else 3\n",
    "    plt.bar(X, Y, bar_width, color=color, alpha=0.75, label=gender)\n",
    "\n",
    "\n",
    "plt.legend(loc='upper right')\n",
    "plt.show()"
   ]
  },
  {
   "cell_type": "markdown",
   "metadata": {},
   "source": [
    "# We have to design now a Naive Bayes class in Python. We will call it NBclass. An NBclass contains one or more Feature classes. The name of the NBclass will be stored in self.name."
   ]
  },
  {
   "cell_type": "code",
   "execution_count": 13,
   "metadata": {},
   "outputs": [],
   "source": [
    "class NBclass:\n",
    "        \n",
    "        def __init__(self, name, *features):\n",
    "            self.features = features\n",
    "            self.name = name\n",
    "            \n",
    "        def probability_value_given_feature(self, \n",
    "                                            feature_value,\n",
    "                                            feature):\n",
    "            \"\"\"\n",
    "            p_value_given_feature returns the probability p \n",
    "            for a feature_value 'value' of the feature  to occurr\n",
    "            corresponds to P(d_i | p_j)\n",
    "            where d_i is a feature variable of the feature i\n",
    "            \"\"\"\n",
    "            \n",
    "            if feature.freq_sum == 0:\n",
    "                return 0\n",
    "            else:\n",
    "                return feature.frequency(feature_value) / feature.freq_sum"
   ]
  },
  {
   "cell_type": "markdown",
   "metadata": {},
   "source": [
    "# In the following code, we will create NBclasses with one feature, i.e. the height feature. We will use the Feature classes of fts, which we have previously created:\n"
   ]
  },
  {
   "cell_type": "code",
   "execution_count": 14,
   "metadata": {},
   "outputs": [],
   "source": [
    "cls = {}\n",
    "for gender in genders:\n",
    "    cls[gender] = NBclass(gender, fts[gender])"
   ]
  },
  {
   "cell_type": "markdown",
   "metadata": {},
   "source": [
    "# The final step for creating a simple Naive Bayes classifier consists in writing a class 'Classifier', which will use our classes 'NBclass' and 'Feature'."
   ]
  },
  {
   "cell_type": "code",
   "execution_count": 15,
   "metadata": {},
   "outputs": [],
   "source": [
    "\n",
    "\n",
    "class Classifier:\n",
    "    \n",
    "    def __init__(self, *nbclasses):\n",
    "        self.nbclasses = nbclasses\n",
    "        \n",
    "        \n",
    "    def prob(self, *d, best_only=True):\n",
    "        \n",
    "        nbclasses = self.nbclasses\n",
    "        probability_list = []\n",
    "        for nbclass in nbclasses:            \n",
    "            ftrs = nbclass.features\n",
    "            prob = 1\n",
    "            for i in range(len(ftrs)):\n",
    "                prob *= nbclass.probability_value_given_feature(d[i], ftrs[i])\n",
    "              \n",
    "            probability_list.append( (prob, nbclass.name) )\n",
    "\n",
    "        prob_values = [f[0] for f in probability_list]\n",
    "        prob_sum = sum(prob_values)\n",
    "        if prob_sum==0:\n",
    "            number_classes = len(self.nbclasses)\n",
    "            pl = []\n",
    "            for prob_element in probability_list:\n",
    "                pl.append( ((1 / number_classes), prob_element[1]))\n",
    "            probability_list = pl\n",
    "        else:\n",
    "            probability_list = [ (p[0] / prob_sum, p[1])  for p in probability_list]\n",
    "        if best_only:\n",
    "            return max(probability_list)\n",
    "        else:\n",
    "            return probability_list\n",
    "\n"
   ]
  },
  {
   "cell_type": "markdown",
   "metadata": {},
   "source": [
    "\n",
    "\n",
    "# We will create a classifier with one feature class 'height'. We check it with values between 130 and 220 cm.\n"
   ]
  },
  {
   "cell_type": "code",
   "execution_count": 16,
   "metadata": {},
   "outputs": [
    {
     "name": "stdout",
     "output_type": "stream",
     "text": [
      "130 [(0.0, 'male'), (1.0, 'female')]\n",
      "135 [(0.0, 'male'), (1.0, 'female')]\n",
      "140 [(0.5, 'male'), (0.5, 'female')]\n",
      "145 [(0.0, 'male'), (1.0, 'female')]\n",
      "150 [(0.0, 'male'), (1.0, 'female')]\n",
      "155 [(0.125, 'male'), (0.875, 'female')]\n",
      "160 [(0.3846153846153847, 'male'), (0.6153846153846154, 'female')]\n",
      "165 [(0.26666666666666666, 'male'), (0.7333333333333333, 'female')]\n",
      "170 [(0.4615384615384616, 'male'), (0.5384615384615385, 'female')]\n",
      "175 [(0.7777777777777778, 'male'), (0.22222222222222224, 'female')]\n",
      "180 [(0.5555555555555556, 'male'), (0.4444444444444445, 'female')]\n",
      "185 [(1.0, 'male'), (0.0, 'female')]\n",
      "190 [(1.0, 'male'), (0.0, 'female')]\n",
      "195 [(1.0, 'male'), (0.0, 'female')]\n",
      "200 [(1.0, 'male'), (0.0, 'female')]\n",
      "205 [(0.5, 'male'), (0.5, 'female')]\n",
      "210 [(0.5, 'male'), (0.5, 'female')]\n",
      "215 [(0.5, 'male'), (0.5, 'female')]\n"
     ]
    }
   ],
   "source": [
    "c = Classifier(cls[\"male\"], cls[\"female\"])\n",
    "\n",
    "for i in range(130, 220, 5):\n",
    "    print(i, c.prob(i, best_only=False))"
   ]
  },
  {
   "cell_type": "markdown",
   "metadata": {},
   "source": [
    "# There are no persons - neither male nor female - in our learn set, with a body height between 140 and 144. This is the reason, why our classifier can't base its result on learned data and therefore comes back with a fify-fifty result.\n",
    "\n",
    "We can also train a classifier with our firstnames:\n"
   ]
  },
  {
   "cell_type": "code",
   "execution_count": 57,
   "metadata": {},
   "outputs": [
    {
     "name": "stdout",
     "output_type": "stream",
     "text": [
      "Edgar (0.5, 'male')\n",
      "Benjamin (1.0, 'male')\n",
      "Fred (1.0, 'male')\n",
      "Albert (1.0, 'male')\n",
      "Laura (1.0, 'female')\n",
      "Maria (1.0, 'female')\n",
      "Paula (1.0, 'female')\n",
      "Sharon (1.0, 'female')\n",
      "Jessie (0.6666666666666667, 'female')\n"
     ]
    }
   ],
   "source": [
    "fts = {}\n",
    "cls = {}\n",
    "for gender in genders:\n",
    "    fts_names = Feature(firstnames[gender], name=gender)\n",
    "    cls[gender] = NBclass(gender, fts_names)\n",
    "    \n",
    "c = Classifier(cls[\"male\"], cls[\"female\"])\n",
    "\n",
    "testnames = ['Edgar', 'Benjamin', 'Fred', 'Albert', 'Laura', \n",
    "             'Maria', 'Paula', 'Sharon', 'Jessie']\n",
    "for name in testnames:\n",
    "    print(name, c.prob(name))"
   ]
  },
  {
   "cell_type": "markdown",
   "metadata": {},
   "source": [
    "# The name \"Jessie\" is an ambiguous name. There are about 66 boys per 100 girls with this name. We can learn from the previous classification results that the probability for the name \"Jessie\" being \"female\" is about two-thirds, which is calculated from our data set \"person\":\n"
   ]
  },
  {
   "cell_type": "code",
   "execution_count": 58,
   "metadata": {},
   "outputs": [
    {
     "data": {
      "text/plain": [
       "[['Jessie', 'Morgan', '175', '67.0', 'male'],\n",
       " ['Jessie', 'Bell', '165', '65', 'female'],\n",
       " ['Jessie', 'Washington', '159', '56', 'female'],\n",
       " ['Jessie', 'Davis', '174', '45', 'female'],\n",
       " ['Jessie', 'Johnson', '165', '30.0', 'male'],\n",
       " ['Jessie', 'Thomas', '168', '69', 'female']]"
      ]
     },
     "execution_count": 58,
     "metadata": {},
     "output_type": "execute_result"
    }
   ],
   "source": [
    "[person for person in persons if person[0] == \"Jessie\"]"
   ]
  },
  {
   "cell_type": "markdown",
   "metadata": {},
   "source": [
    "# Jessie Washington is only 159 cm tall. If we have a look at the results of our Classifier, trained with heights, we see that the likelihood for a person 159 cm tall of being \"female\" is 0.875. So what about an unknown person called \"Jessie\" and being 159 cm tall? Is this person female or male?\n",
    "\n",
    "To answer this question, we will train an Naive Bayes classifier with two feature classes, i.e. heights and firstnames:\n"
   ]
  },
  {
   "cell_type": "code",
   "execution_count": 59,
   "metadata": {},
   "outputs": [
    {
     "name": "stdout",
     "output_type": "stream",
     "text": [
      "('Maria', 140) [(0.5, 'male'), (0.5, 'female')]\n",
      "('Anthony', 200) [(1.0, 'male'), (0.0, 'female')]\n",
      "('Anthony', 153) [(0.5, 'male'), (0.5, 'female')]\n",
      "('Jessie', 188) [(1.0, 'male'), (0.0, 'female')]\n",
      "('Jessie', 159) [(0.06666666666666667, 'male'), (0.9333333333333333, 'female')]\n",
      "('Jessie', 160) [(0.23809523809523817, 'male'), (0.761904761904762, 'female')]\n"
     ]
    }
   ],
   "source": [
    "cls = {}\n",
    "for gender in genders:\n",
    "    fts_heights = Feature(heights[gender], name=\"heights\", bin_width=5)\n",
    "    fts_names = Feature(firstnames[gender], name=\"names\")\n",
    "\n",
    "    cls[gender] = NBclass(gender, fts_names, fts_heights)\n",
    "\n",
    "\n",
    "c = Classifier(cls[\"male\"], cls[\"female\"])\n",
    "\n",
    "for d in [(\"Maria\", 140), (\"Anthony\", 200), (\"Anthony\", 153), \n",
    "          (\"Jessie\", 188) , (\"Jessie\", 159), (\"Jessie\", 160) ]:\n",
    "    print(d, c.prob(*d, best_only=False))"
   ]
  },
  {
   "cell_type": "code",
   "execution_count": null,
   "metadata": {},
   "outputs": [],
   "source": []
  }
 ],
 "metadata": {
  "kernelspec": {
   "display_name": "Python 3",
   "language": "python",
   "name": "python3"
  },
  "language_info": {
   "codemirror_mode": {
    "name": "ipython",
    "version": 3
   },
   "file_extension": ".py",
   "mimetype": "text/x-python",
   "name": "python",
   "nbconvert_exporter": "python",
   "pygments_lexer": "ipython3",
   "version": "3.8.5"
  }
 },
 "nbformat": 4,
 "nbformat_minor": 4
}
